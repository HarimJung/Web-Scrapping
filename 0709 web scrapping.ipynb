{
 "cells": [
  {
   "cell_type": "markdown",
   "metadata": {},
   "source": [
    "# http://doc.mindscale.kr/km/unstructured/"
   ]
  },
  {
   "cell_type": "code",
   "execution_count": 19,
   "metadata": {},
   "outputs": [],
   "source": [
    "# 여기에 수업내용 다 있따. 1-4장 보라"
   ]
  },
  {
   "cell_type": "code",
   "execution_count": 6,
   "metadata": {},
   "outputs": [],
   "source": [
    "# chrome://version 에서 크롬의 버젼 확인 가능 header에서 읽는걸로 바꾸기"
   ]
  },
  {
   "cell_type": "code",
   "execution_count": 3,
   "metadata": {},
   "outputs": [
    {
     "name": "stdout",
     "output_type": "stream",
     "text": [
      "Requirement already satisfied: selenium in c:\\users\\affinity\\anaconda3\\lib\\site-packages (3.141.0)\n",
      "Requirement already satisfied: urllib3 in c:\\users\\affinity\\anaconda3\\lib\\site-packages (from selenium) (1.24.1)\n"
     ]
    }
   ],
   "source": [
    "!pip install selenium\n",
    "#from selenium import webdriver"
   ]
  },
  {
   "cell_type": "code",
   "execution_count": 7,
   "metadata": {},
   "outputs": [],
   "source": [
    "from selenium import webdriver"
   ]
  },
  {
   "cell_type": "code",
   "execution_count": 8,
   "metadata": {},
   "outputs": [],
   "source": [
    "drive= webdriver.Chrome() ## 웹드라이버중 크롬을 우리가 제어해보겠다. 크롬창 뜸"
   ]
  },
  {
   "cell_type": "code",
   "execution_count": 9,
   "metadata": {},
   "outputs": [],
   "source": [
    "drive.get(\"http://naver.com\") #주소로 이동"
   ]
  },
  {
   "cell_type": "code",
   "execution_count": 12,
   "metadata": {},
   "outputs": [],
   "source": [
    "login_btn1=drive.find_element_by_css_selector(\"#account > div > a > i\")# 로그인 이라는 것을 제어한다\n",
    "# 우클릭 검사 카피+ 셀렉트"
   ]
  },
  {
   "cell_type": "code",
   "execution_count": 13,
   "metadata": {},
   "outputs": [],
   "source": [
    "login_btn1.click() # 로그인창으로 뜸, 클릭 함수 실행 넘어옴"
   ]
  },
  {
   "cell_type": "code",
   "execution_count": 15,
   "metadata": {},
   "outputs": [],
   "source": [
    "## 아이디와 비번 쳐주고 싶을때\n",
    "naver_id=drive.find_element_by_id(\"id\")\n",
    "pw=drive.find_element_by_id(\"pw\")"
   ]
  },
  {
   "cell_type": "code",
   "execution_count": 16,
   "metadata": {},
   "outputs": [],
   "source": [
    "naver_id.send_keys(\"jhr20913\")\n",
    "pw.send_keys(\"rimi4nawah\")\n",
    "# 해당위치에 놔준다."
   ]
  },
  {
   "cell_type": "code",
   "execution_count": 18,
   "metadata": {},
   "outputs": [],
   "source": [
    "### css-selector로 들고온 것들의 위치를 찾아줄뿐.\n",
    "login_btn2=drive.find_element_by_css_selector(\"#frmNIDLogin > fieldset > input\")\n",
    "\n",
    "login_btn2.click()"
   ]
  },
  {
   "cell_type": "code",
   "execution_count": null,
   "metadata": {},
   "outputs": [],
   "source": [
    "#reviews = browser.find_elements_by_css_selector('.review-container')\n",
    "# review위치들이 저장되어있는것 이다.\n",
    "# 무교동 북엇국집 이야기 doc.mindscale이야."
   ]
  }
 ],
 "metadata": {
  "kernelspec": {
   "display_name": "Python 3",
   "language": "python",
   "name": "python3"
  },
  "language_info": {
   "codemirror_mode": {
    "name": "ipython",
    "version": 3
   },
   "file_extension": ".py",
   "mimetype": "text/x-python",
   "name": "python",
   "nbconvert_exporter": "python",
   "pygments_lexer": "ipython3",
   "version": "3.7.3"
  }
 },
 "nbformat": 4,
 "nbformat_minor": 2
}
