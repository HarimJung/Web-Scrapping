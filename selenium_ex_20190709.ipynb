{
 "cells": [
  {
   "cell_type": "code",
   "execution_count": 5,
   "metadata": {},
   "outputs": [
    {
     "name": "stdout",
     "output_type": "stream",
     "text": [
      "Requirement already satisfied: selenium in c:\\users\\affinity\\anaconda3\\lib\\site-packages (3.141.0)\n",
      "Requirement already satisfied: urllib3 in c:\\users\\affinity\\anaconda3\\lib\\site-packages (from selenium) (1.24.1)\n",
      "Note: you may need to restart the kernel to use updated packages.\n"
     ]
    }
   ],
   "source": [
    "pip install selenium"
   ]
  },
  {
   "cell_type": "code",
   "execution_count": 6,
   "metadata": {},
   "outputs": [],
   "source": [
    "from selenium import web6driver"
   ]
  },
  {
   "cell_type": "code",
   "execution_count": 19,
   "metadata": {},
   "outputs": [],
   "source": [
    "drive = webdriver.Chrome()"
   ]
  },
  {
   "cell_type": "code",
   "execution_count": 20,
   "metadata": {},
   "outputs": [],
   "source": [
    "drive.get('http://naver.com')"
   ]
  },
  {
   "cell_type": "code",
   "execution_count": 21,
   "metadata": {},
   "outputs": [],
   "source": [
    "login_btn1 = drive.find_element_by_css_selector('#account > div > a > i')\n",
    "login_btn1.click()"
   ]
  },
  {
   "cell_type": "code",
   "execution_count": 22,
   "metadata": {},
   "outputs": [],
   "source": [
    "naver_id = drive.find_element_by_id('id')\n",
    "pw = drive.find_element_by_id('pw')"
   ]
  },
  {
   "cell_type": "code",
   "execution_count": 16,
   "metadata": {},
   "outputs": [],
   "source": [
    "naver_id.send_keys('dptlfakdxh')\n",
    "pw.send_keys('sksmscjswo3')"
   ]
  },
  {
   "cell_type": "code",
   "execution_count": 17,
   "metadata": {},
   "outputs": [],
   "source": [
    "login_btn2 = drive.find_element_by_css_selector('#frmNIDLogin > fieldset > input')\n",
    "login_btn2.click()"
   ]
  },
  {
   "cell_type": "code",
   "execution_count": 24,
   "metadata": {},
   "outputs": [],
   "source": [
    "drive.quit()"
   ]
  },
  {
   "cell_type": "markdown",
   "metadata": {},
   "source": [
    "### Selenium 트립 어드바이저 예제"
   ]
  },
  {
   "cell_type": "code",
   "execution_count": 26,
   "metadata": {},
   "outputs": [],
   "source": [
    "from selenium.webdriver import Chrome"
   ]
  },
  {
   "cell_type": "code",
   "execution_count": 43,
   "metadata": {},
   "outputs": [],
   "source": [
    "browser = Chrome()"
   ]
  },
  {
   "cell_type": "code",
   "execution_count": 44,
   "metadata": {},
   "outputs": [],
   "source": [
    "url = 'https://www.tripadvisor.co.kr/Restaurant_Review-g294197-d1371740-Reviews-Mugyodong_Bugeokukjib-Seoul.html'"
   ]
  },
  {
   "cell_type": "code",
   "execution_count": 45,
   "metadata": {},
   "outputs": [],
   "source": [
    "browser.get(url)"
   ]
  },
  {
   "cell_type": "code",
   "execution_count": 46,
   "metadata": {},
   "outputs": [
    {
     "data": {
      "text/plain": [
       "10"
      ]
     },
     "execution_count": 46,
     "metadata": {},
     "output_type": "execute_result"
    }
   ],
   "source": [
    "more_links = browser.find_elements_by_css_selector('.ulBlueLinks')\n",
    "len(more_links)"
   ]
  },
  {
   "cell_type": "code",
   "execution_count": 47,
   "metadata": {},
   "outputs": [],
   "source": [
    "for link in more_links:\n",
    "    try:\n",
    "        link.click()\n",
    "    except:\n",
    "        pass"
   ]
  },
  {
   "cell_type": "code",
   "execution_count": 48,
   "metadata": {},
   "outputs": [],
   "source": [
    "reviews = browser.find_elements_by_css_selector('.review-container')"
   ]
  },
  {
   "cell_type": "code",
   "execution_count": 52,
   "metadata": {},
   "outputs": [
    {
     "name": "stdout",
     "output_type": "stream",
     "text": [
      "ui_bubble_rating bubble_50\n",
      "ui_bubble_rating bubble_50\n",
      "ui_bubble_rating bubble_50\n",
      "ui_bubble_rating bubble_50\n",
      "ui_bubble_rating bubble_50\n",
      "ui_bubble_rating bubble_50\n",
      "ui_bubble_rating bubble_50\n",
      "ui_bubble_rating bubble_40\n",
      "ui_bubble_rating bubble_40\n",
      "ui_bubble_rating bubble_30\n"
     ]
    }
   ],
   "source": [
    "s = len('ui_bubble_rating bubble_')\n",
    "\n",
    "review_list = []\n",
    "for review in reviews:\n",
    "    # 별점을 찾는다. 하나만 찾기 때문에 단수형 element를 사용\n",
    "    rating = review.find_element_by_css_selector('.ui_bubble_rating')\n",
    "\n",
    "    # 별점에 지정된 클래스를 가져온다 (requests의 .attrib에 해당)\n",
    "    cls = rating.get_attribute('class')\n",
    "    \n",
    "    # 앞부분을 떼어내고 정수로 해석한다\n",
    "    \n",
    "    score = int(cls[s:])\n",
    "\n",
    "    # 평을 찾는다.\n",
    "    comment = review.find_element_by_css_selector('.partial_entry')\n",
    "\n",
    "    # 점수와 텍스트를 리스트에 추가한다\n",
    "    review_list.append((score, comment.text))"
   ]
  },
  {
   "cell_type": "code",
   "execution_count": 36,
   "metadata": {},
   "outputs": [],
   "source": [
    "import pandas as pd"
   ]
  },
  {
   "cell_type": "code",
   "execution_count": 54,
   "metadata": {},
   "outputs": [
    {
     "data": {
      "text/html": [
       "<div>\n",
       "<style scoped>\n",
       "    .dataframe tbody tr th:only-of-type {\n",
       "        vertical-align: middle;\n",
       "    }\n",
       "\n",
       "    .dataframe tbody tr th {\n",
       "        vertical-align: top;\n",
       "    }\n",
       "\n",
       "    .dataframe thead th {\n",
       "        text-align: right;\n",
       "    }\n",
       "</style>\n",
       "<table border=\"1\" class=\"dataframe\">\n",
       "  <thead>\n",
       "    <tr style=\"text-align: right;\">\n",
       "      <th></th>\n",
       "      <th>score</th>\n",
       "      <th>text</th>\n",
       "    </tr>\n",
       "  </thead>\n",
       "  <tbody>\n",
       "    <tr>\n",
       "      <th>0</th>\n",
       "      <td>50</td>\n",
       "      <td>원래도 인기가 많은 곳이었지만, 지금은 관광객도 많습니다. 다만 관광객분들이 북엇국...</td>\n",
       "    </tr>\n",
       "    <tr>\n",
       "      <th>1</th>\n",
       "      <td>50</td>\n",
       "      <td>술 마신 다음날 숙취에는 최고입니다.\\n\\n부드러운 북어살과 푸짐한 계란에 고소한 ...</td>\n",
       "    </tr>\n",
       "    <tr>\n",
       "      <th>2</th>\n",
       "      <td>50</td>\n",
       "      <td>50년 된 북어국집 기본적으로 긴줄은 거쳐야 먹을 수 있다 단 회전율이 좋아 오래 ...</td>\n",
       "    </tr>\n",
       "    <tr>\n",
       "      <th>3</th>\n",
       "      <td>50</td>\n",
       "      <td>음식 맛이 훌륭합니다. 리필도 해주고 밑반찬과 메인의 어울림이 좋습니다.\\n줄을 서...</td>\n",
       "    </tr>\n",
       "    <tr>\n",
       "      <th>4</th>\n",
       "      <td>50</td>\n",
       "      <td>옛 선조들이 몸이 힘 들고 허 할 때, 북어를 푹 끊여 15일 이상 먹으면, 기운이...</td>\n",
       "    </tr>\n",
       "    <tr>\n",
       "      <th>5</th>\n",
       "      <td>50</td>\n",
       "      <td>언제나 줄서서 먹는 북어국이다. 타이밍을 잘맞우면 조금만 기다려도 된다. 단일메뉴여...</td>\n",
       "    </tr>\n",
       "    <tr>\n",
       "      <th>6</th>\n",
       "      <td>50</td>\n",
       "      <td>건더기가 아주 많이 들어가있고, 재료의 조화가 매우 훌륭하다. 일요일 오전 10시에...</td>\n",
       "    </tr>\n",
       "    <tr>\n",
       "      <th>7</th>\n",
       "      <td>40</td>\n",
       "      <td>인근에 회사들이 밀집해있기 때문에, 전날 과음을 한 직장인들이 아주 많이 찾는 곳이...</td>\n",
       "    </tr>\n",
       "    <tr>\n",
       "      <th>8</th>\n",
       "      <td>40</td>\n",
       "      <td>외국남친이 하도 가보고 싶어해서 같이 찾아가봤어요. 국물은 굉장히 깔끔했고 밥에 새...</td>\n",
       "    </tr>\n",
       "    <tr>\n",
       "      <th>9</th>\n",
       "      <td>30</td>\n",
       "      <td>메뉴가 거의 단일화 되어있어 회전율이 빠릅니다.\\n주변에 직장인들이 많아서 금방 자...</td>\n",
       "    </tr>\n",
       "  </tbody>\n",
       "</table>\n",
       "</div>"
      ],
      "text/plain": [
       "   score                                               text\n",
       "0     50  원래도 인기가 많은 곳이었지만, 지금은 관광객도 많습니다. 다만 관광객분들이 북엇국...\n",
       "1     50  술 마신 다음날 숙취에는 최고입니다.\\n\\n부드러운 북어살과 푸짐한 계란에 고소한 ...\n",
       "2     50  50년 된 북어국집 기본적으로 긴줄은 거쳐야 먹을 수 있다 단 회전율이 좋아 오래 ...\n",
       "3     50  음식 맛이 훌륭합니다. 리필도 해주고 밑반찬과 메인의 어울림이 좋습니다.\\n줄을 서...\n",
       "4     50  옛 선조들이 몸이 힘 들고 허 할 때, 북어를 푹 끊여 15일 이상 먹으면, 기운이...\n",
       "5     50  언제나 줄서서 먹는 북어국이다. 타이밍을 잘맞우면 조금만 기다려도 된다. 단일메뉴여...\n",
       "6     50  건더기가 아주 많이 들어가있고, 재료의 조화가 매우 훌륭하다. 일요일 오전 10시에...\n",
       "7     40  인근에 회사들이 밀집해있기 때문에, 전날 과음을 한 직장인들이 아주 많이 찾는 곳이...\n",
       "8     40  외국남친이 하도 가보고 싶어해서 같이 찾아가봤어요. 국물은 굉장히 깔끔했고 밥에 새...\n",
       "9     30  메뉴가 거의 단일화 되어있어 회전율이 빠릅니다.\\n주변에 직장인들이 많아서 금방 자..."
      ]
     },
     "execution_count": 54,
     "metadata": {},
     "output_type": "execute_result"
    }
   ],
   "source": [
    "df = pd.DataFrame(review_list, columns=['score', 'text'])\n",
    "df"
   ]
  },
  {
   "cell_type": "markdown",
   "metadata": {},
   "source": [
    "### 실습"
   ]
  },
  {
   "cell_type": "markdown",
   "metadata": {},
   "source": [
    "검색어를 지정하여 검색해보기"
   ]
  },
  {
   "cell_type": "code",
   "execution_count": 71,
   "metadata": {},
   "outputs": [],
   "source": [
    "driver = Chrome()\n",
    "driver.get('http://google.com')"
   ]
  },
  {
   "cell_type": "code",
   "execution_count": 72,
   "metadata": {},
   "outputs": [],
   "source": [
    "#element = driver.find_element_by_css_selector('#tsf > div:nth-child(2) > div > div.RNNXgb > div > div.a4bIc > input')\n",
    "element = driver.find_element_by_name('q')"
   ]
  },
  {
   "cell_type": "code",
   "execution_count": 73,
   "metadata": {},
   "outputs": [],
   "source": [
    "element.clear()"
   ]
  },
  {
   "cell_type": "code",
   "execution_count": 74,
   "metadata": {},
   "outputs": [],
   "source": [
    "element.send_keys('coffee')\n",
    "element.submit()"
   ]
  },
  {
   "cell_type": "code",
   "execution_count": 75,
   "metadata": {},
   "outputs": [],
   "source": [
    "driver.quit()"
   ]
  },
  {
   "cell_type": "markdown",
   "metadata": {},
   "source": [
    "네이버 뉴스제목 스크래핑 해보기 "
   ]
  },
  {
   "cell_type": "code",
   "execution_count": null,
   "metadata": {},
   "outputs": [],
   "source": [
    "https://news.naver.com/main/main.nhn?mode=LSD&mid=shm&sid1=100"
   ]
  },
  {
   "cell_type": "code",
   "execution_count": 122,
   "metadata": {},
   "outputs": [],
   "source": [
    "driver = Chrome()\n",
    "driver.get('https://news.naver.com/main/main.nhn?mode=LSD&mid=shm&sid1=100')"
   ]
  },
  {
   "cell_type": "code",
   "execution_count": 112,
   "metadata": {},
   "outputs": [
    {
     "data": {
      "text/plain": [
       "[\"[이슈] 창유, 배우 류준열과 '신령의 숲' 메이킹 영상 공개\",\n",
       " \"성평등 단편영화 제작지원작에 신승은 감독 '프론트맨'·오지수 감독 '허밍' 선정\",\n",
       " '방탄소년단, 해외 가수 최고기록으로 日 오리콘 주간차트 정상']"
      ]
     },
     "execution_count": 112,
     "metadata": {},
     "output_type": "execute_result"
    }
   ],
   "source": [
    "news_titles = []\n",
    "\n",
    "\n",
    "for i in range(1, 4):\n",
    "    source = '//*[@id=\"main_content\"]/div[2]/ul[1]/li[%d]/dl/dt[2]/a' % i\n",
    "    news_titles.append(driver.find_element_by_xpath(source).text)\n",
    "    \n",
    "news_titles"
   ]
  },
  {
   "cell_type": "markdown",
   "metadata": {},
   "source": [
    "## 수업시작"
   ]
  },
  {
   "cell_type": "code",
   "execution_count": 123,
   "metadata": {},
   "outputs": [],
   "source": [
    "import re"
   ]
  },
  {
   "cell_type": "code",
   "execution_count": 124,
   "metadata": {},
   "outputs": [],
   "source": [
    "text = \"\"\"100 John    PROF\n",
    "101 James   STUD\n",
    "102 Mac   STUD\"\"\"  "
   ]
  },
  {
   "cell_type": "code",
   "execution_count": 125,
   "metadata": {},
   "outputs": [
    {
     "data": {
      "text/plain": [
       "['100', '101', '102']"
      ]
     },
     "execution_count": 125,
     "metadata": {},
     "output_type": "execute_result"
    }
   ],
   "source": [
    "re.split('\\s+', text)\n",
    "re.findall('\\d+',text)\n"
   ]
  },
  {
   "cell_type": "code",
   "execution_count": 132,
   "metadata": {},
   "outputs": [
    {
     "data": {
      "text/plain": [
       "['John', 'James', 'Mac']"
      ]
     },
     "execution_count": 132,
     "metadata": {},
     "output_type": "execute_result"
    }
   ],
   "source": [
    "re.findall('[A-Z][a-z]+',text)"
   ]
  },
  {
   "cell_type": "code",
   "execution_count": 129,
   "metadata": {},
   "outputs": [
    {
     "data": {
      "text/plain": [
       "'    John    PROF     James   STUD     Mac   STUD'"
      ]
     },
     "execution_count": 129,
     "metadata": {},
     "output_type": "execute_result"
    }
   ],
   "source": [
    "re.sub('[^a-zA-Z]', ' ', text)"
   ]
  },
  {
   "cell_type": "code",
   "execution_count": null,
   "metadata": {},
   "outputs": [],
   "source": []
  }
 ],
 "metadata": {
  "kernelspec": {
   "display_name": "Python 3",
   "language": "python",
   "name": "python3"
  },
  "language_info": {
   "codemirror_mode": {
    "name": "ipython",
    "version": 3
   },
   "file_extension": ".py",
   "mimetype": "text/x-python",
   "name": "python",
   "nbconvert_exporter": "python",
   "pygments_lexer": "ipython3",
   "version": "3.7.3"
  }
 },
 "nbformat": 4,
 "nbformat_minor": 2
}
